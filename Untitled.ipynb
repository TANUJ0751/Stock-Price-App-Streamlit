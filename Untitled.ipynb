{
 "cells": [
  {
   "cell_type": "code",
   "execution_count": 48,
   "id": "e61db464-5580-482d-a984-f553ce0a122b",
   "metadata": {},
   "outputs": [],
   "source": [
    "import yfinance as yf\n",
    "import pandas as pd\n",
    "import numpy as np\n",
    "from sklearn.model_selection import train_test_split\n",
    "from sklearn.preprocessing import StandardScaler\n",
    "from sklearn.linear_model import LogisticRegression\n",
    "from xgboost import XGBClassifier\n",
    "from sklearn.svm import SVC\n",
    "from joblib import dump,load\n",
    "import os\n",
    "from sklearn.metrics import accuracy_score, classification_report\n",
    "def fetch_data(ticker):\n",
    "    stock = yf.Ticker(ticker)\n",
    "    data = stock.history(period=\"max\")  # Fetch 5 years of data\n",
    "    data.reset_index(inplace=True)\n",
    "    return data\n"
   ]
  },
  {
   "cell_type": "code",
   "execution_count": 49,
   "id": "0817f7a2-988f-40ed-b25a-be8733531885",
   "metadata": {},
   "outputs": [],
   "source": [
    "stock_list=pd.read_csv('nasdaq-listed.csv')"
   ]
  },
  {
   "cell_type": "code",
   "execution_count": 50,
   "id": "421a56ca-0add-461d-a395-17c359f3d734",
   "metadata": {},
   "outputs": [],
   "source": [
    "\n",
    "def preprocess_data(data):\n",
    "    # Feature engineering: Create relevant columns\n",
    "    data['open-close'] = data['Open'] - data['Close']\n",
    "    data['high-low'] = data['High'] - data['Low']\n",
    "    data['price-change'] = data['Close'].pct_change()\n",
    "    data['is_quarter_end'] = np.where((data['Date'].dt.month % 3 == 0) & (data['Date'].dt.day > 23), 1, 0)\n",
    "    data['SMA_10'] = data['Close'].rolling(window=10).mean()\n",
    "    data['SMA_50'] = data['Close'].rolling(window=50).mean()\n",
    "    data['SMA_200'] = data['Close'].rolling(window=200).mean()\n",
    "    data['EMA_10'] = data['Close'].ewm(span=10, adjust=False).mean()\n",
    "    data['EMA_50'] = data['Close'].ewm(span=50, adjust=False).mean()\n",
    "    data['EMA_200'] = data['Close'].ewm(span=200, adjust=False).mean()\n",
    "    # Drop unnecessary columns\n",
    "    data = data.drop(['Dividends', 'Stock Splits'], axis=1, errors='ignore')\n",
    "    data.dropna(inplace=True)  # Handle missing values\n",
    "    \n",
    "    return data\n",
    "\n",
    "\n"
   ]
  },
  {
   "cell_type": "code",
   "execution_count": 51,
   "id": "8653f251-024d-4212-b1a1-7ad24ae1abae",
   "metadata": {},
   "outputs": [],
   "source": [
    "accuracy_list=pd.read_csv(\"Accuracy_Data_NASDAQ.csv\")\n",
    "\n",
    "#print(accuracy_list)"
   ]
  },
  {
   "cell_type": "code",
   "execution_count": null,
   "id": "51fac55b-fd50-41b1-9597-3cc75a65a56b",
   "metadata": {},
   "outputs": [
    {
     "name": "stdout",
     "output_type": "stream",
     "text": [
      "AACG   0\n",
      "Accuracy: 0.5591133004926109\n",
      "Classification Report:\n",
      "               precision    recall  f1-score   support\n",
      "\n",
      "           0       0.57      0.92      0.71       466\n",
      "           1       0.40      0.07      0.12       346\n",
      "\n",
      "    accuracy                           0.56       812\n",
      "   macro avg       0.49      0.50      0.41       812\n",
      "weighted avg       0.50      0.56      0.46       812\n",
      "\n",
      "Accuracy List Length : 1\n"
     ]
    },
    {
     "name": "stderr",
     "output_type": "stream",
     "text": [
      "C:\\Users\\TANUJ\\AppData\\Local\\Temp\\ipykernel_8028\\3180194899.py:34: FutureWarning: The behavior of DataFrame concatenation with empty or all-NA entries is deprecated. In a future version, this will no longer exclude empty or all-NA columns when determining the result dtypes. To retain the old behavior, exclude the relevant entries before the concat operation.\n",
      "  accuracy_list=pd.concat([accuracy_list,stock_accuracy])\n"
     ]
    },
    {
     "name": "stdout",
     "output_type": "stream",
     "text": [
      "AADI   1\n",
      "Accuracy: 0.5424836601307189\n",
      "Classification Report:\n",
      "               precision    recall  f1-score   support\n",
      "\n",
      "           0       0.55      0.98      0.70       167\n",
      "           1       0.43      0.02      0.04       139\n",
      "\n",
      "    accuracy                           0.54       306\n",
      "   macro avg       0.49      0.50      0.37       306\n",
      "weighted avg       0.49      0.54      0.40       306\n",
      "\n",
      "Accuracy List Length : 2\n",
      "AADR   2\n",
      "Accuracy: 0.5319767441860465\n",
      "Classification Report:\n",
      "               precision    recall  f1-score   support\n",
      "\n",
      "           0       0.56      0.46      0.50       356\n",
      "           1       0.51      0.61      0.56       332\n",
      "\n",
      "    accuracy                           0.53       688\n",
      "   macro avg       0.54      0.53      0.53       688\n",
      "weighted avg       0.54      0.53      0.53       688\n",
      "\n",
      "Accuracy List Length : 3\n",
      "AAL   3\n",
      "Accuracy: 0.4935483870967742\n",
      "Classification Report:\n",
      "               precision    recall  f1-score   support\n",
      "\n",
      "           0       0.52      0.29      0.38       483\n",
      "           1       0.48      0.71      0.57       447\n",
      "\n",
      "    accuracy                           0.49       930\n",
      "   macro avg       0.50      0.50      0.47       930\n",
      "weighted avg       0.50      0.49      0.47       930\n",
      "\n",
      "Accuracy List Length : 4\n"
     ]
    }
   ],
   "source": [
    "for index, row in stock_list.iloc[:10].iterrows():\n",
    "    stock=row['Stocks']\n",
    "    data=fetch_data(stock)\n",
    "    data=preprocess_data(data)\n",
    "    model_dir=f\"./models/{stock}/\"\n",
    "    if not os.path.exists(model_dir):\n",
    "                os.mkdir(model_dir)\n",
    "    accuracy_list.to_csv(\"Accuracy_Data_NASDAQ.csv\",index=False)\n",
    "    # Define features (X) and target (y)\n",
    "    features = data[['open-close', 'high-low', 'Volume', 'is_quarter_end','SMA_10','SMA_50',\"SMA_200\",'EMA_10','EMA_50',\"EMA_200\"]]\n",
    "    target = np.where(data['Close'].shift(-1) > data['Close'], 1, 0)  # 1 foSr price increase, 0 otherwise\n",
    "    if not data.empty:\n",
    "        X_train, X_test, y_train, y_test = train_test_split(features, target, test_size=0.2, random_state=42)\n",
    "        \n",
    "        # Standardize features\n",
    "        scaler = StandardScaler()\n",
    "        X_train = scaler.fit_transform(X_train)\n",
    "        X_test = scaler.transform(X_test)\n",
    "        # Initialize and train the model\n",
    "        model = SVC(kernel='poly', probability=True, random_state=42)  \n",
    "        model.fit(X_train, y_train)\n",
    "        \n",
    "        # Save the scaler and model for reuse\n",
    "        \n",
    "        dump(scaler, f\"{model_dir}{stock}_scaler.joblib\")\n",
    "        dump(model, f\"{model_dir}{stock}_predictor.joblib\")\n",
    "        y_pred = model.predict(X_test)\n",
    "        \n",
    "        # Evaluate performance\n",
    "        print(stock,\" \",index)\n",
    "        print(\"Accuracy:\", accuracy_score(y_test, y_pred))\n",
    "        print(\"Classification Report:\\n\", classification_report(y_test, y_pred))\n",
    "        stock_accuracy=pd.DataFrame({\"Symbol\":[row['Stocks']],\"Accuracy\":[accuracy_score(y_test,y_pred)*100]})\n",
    "        accuracy_list=pd.concat([accuracy_list,stock_accuracy])\n",
    "        print(\"Accuracy List Length :\",len(accuracy_list))\n",
    "        "
   ]
  },
  {
   "cell_type": "code",
   "execution_count": null,
   "id": "02bae035-00ac-4d50-8f0d-e2eadfec3ab2",
   "metadata": {},
   "outputs": [],
   "source": [
    "accuracy_list.to_csv(\"Accuracy_Data_NASDAQ.csv\",index=False)"
   ]
  },
  {
   "cell_type": "code",
   "execution_count": null,
   "id": "e20d531d-1620-4f00-9a1c-e1069a43b488",
   "metadata": {},
   "outputs": [],
   "source": []
  }
 ],
 "metadata": {
  "kernelspec": {
   "display_name": "Python 3 (ipykernel)",
   "language": "python",
   "name": "python3"
  },
  "language_info": {
   "codemirror_mode": {
    "name": "ipython",
    "version": 3
   },
   "file_extension": ".py",
   "mimetype": "text/x-python",
   "name": "python",
   "nbconvert_exporter": "python",
   "pygments_lexer": "ipython3",
   "version": "3.12.7"
  }
 },
 "nbformat": 4,
 "nbformat_minor": 5
}
