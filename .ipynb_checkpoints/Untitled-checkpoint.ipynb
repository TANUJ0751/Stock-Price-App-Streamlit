{
 "cells": [
  {
   "cell_type": "code",
   "execution_count": 10,
   "id": "e61db464-5580-482d-a984-f553ce0a122b",
   "metadata": {},
   "outputs": [
    {
     "name": "stdout",
     "output_type": "stream",
     "text": [
      "                       Date       Open       High        Low      Close  \\\n",
      "0 2019-12-30 00:00:00-05:00  70.156601  70.939461  69.128952  70.655884   \n",
      "1 2019-12-31 00:00:00-05:00  70.270538  71.179428  70.171165  71.172157   \n",
      "2 2020-01-02 00:00:00-05:00  71.799881  72.856621  71.545395  72.796028   \n",
      "3 2020-01-03 00:00:00-05:00  72.020447  72.851776  71.862907  72.088310   \n",
      "4 2020-01-06 00:00:00-05:00  71.206077  72.701500  70.954010  72.662720   \n",
      "\n",
      "      Volume  Dividends  Stock Splits  \n",
      "0  144114400        0.0           0.0  \n",
      "1  100805600        0.0           0.0  \n",
      "2  135480400        0.0           0.0  \n",
      "3  146322800        0.0           0.0  \n",
      "4  118387200        0.0           0.0  \n"
     ]
    }
   ],
   "source": [
    "import yfinance as yf\n",
    "\n",
    "def fetch_data(ticker):\n",
    "    stock = yf.Ticker(ticker)\n",
    "    data = stock.history(period=\"5y\")  # Fetch 5 years of data\n",
    "    data.reset_index(inplace=True)\n",
    "    return data\n",
    "\n",
    "ticker = \"AAPL\"  # Replace with your ticker\n",
    "data = fetch_data(ticker)\n",
    "print(data.head())"
   ]
  },
  {
   "cell_type": "code",
   "execution_count": 11,
   "id": "421a56ca-0add-461d-a395-17c359f3d734",
   "metadata": {},
   "outputs": [
    {
     "name": "stdout",
     "output_type": "stream",
     "text": [
      "                        Date       Open       High        Low      Close  \\\n",
      "29 2020-02-11 00:00:00-05:00  78.617285  78.690166  77.429277  77.647926   \n",
      "30 2020-02-12 00:00:00-05:00  78.099807  79.496746  78.099807  79.491890   \n",
      "31 2020-02-13 00:00:00-05:00  78.760610  79.253790  78.556537  78.925812   \n",
      "32 2020-02-14 00:00:00-05:00  78.894235  79.195493  78.435071  78.945259   \n",
      "33 2020-02-18 00:00:00-05:00  76.615384  77.681919  76.433174  77.499710   \n",
      "\n",
      "       Volume  open-close  high-low  price-change  is_quarter_end     SMA_10  \\\n",
      "29   94323200    0.969359  1.260890     -0.006033               0  77.446171   \n",
      "30  113730400   -1.392082  1.396939      0.023748               0  77.534311   \n",
      "31   94747600   -0.165201  0.697253     -0.007121               0  77.577235   \n",
      "32   80113600   -0.051024  0.760422      0.000246               0  77.970147   \n",
      "33  152531200   -0.884326  1.248745     -0.018311               0  78.239105   \n",
      "\n",
      "       SMA_20     SMA_30  \n",
      "29  76.974504  75.725079  \n",
      "30  77.159875  76.019613  \n",
      "31  77.333182  76.278068  \n",
      "32  77.460199  76.483042  \n",
      "33  77.472645  76.663422  \n"
     ]
    }
   ],
   "source": [
    "import pandas as pd\n",
    "import numpy as np\n",
    "\n",
    "def preprocess_data(data):\n",
    "    # Feature engineering: Create relevant columns\n",
    "    data['open-close'] = data['Open'] - data['Close']\n",
    "    data['high-low'] = data['High'] - data['Low']\n",
    "    data['price-change'] = data['Close'].pct_change()\n",
    "    data['is_quarter_end'] = np.where(data['Date'].dt.month % 3 == 0, 1, 0)\n",
    "    data['SMA_10'] = data['Close'].rolling(window=10).mean()\n",
    "    data['SMA_20'] = data['Close'].rolling(window=20).mean()\n",
    "    data['SMA_30'] = data['Close'].rolling(window=30).mean()\n",
    "    data['EMA_10'] = data['Close'].ewm(span=10, adjust=False).mean()\n",
    "    data['EMA_20'] = data['Close'].ewm(span=20, adjust=False).mean()\n",
    "    data['EMA_30'] = data['Close'].ewm(span=30, adjust=False).mean()\n",
    "    # Drop unnecessary columns\n",
    "    data = data.drop(['Dividends', 'Stock Splits'], axis=1, errors='ignore')\n",
    "    data.dropna(inplace=True)  # Handle missing values\n",
    "    \n",
    "    return data\n",
    "\n",
    "data = preprocess_data(data)\n",
    "print(data.head())\n",
    "\n"
   ]
  },
  {
   "cell_type": "code",
   "execution_count": 12,
   "id": "aff60dec-481a-4eb4-85e0-6cc0c8e8997f",
   "metadata": {},
   "outputs": [],
   "source": [
    "# Define features (X) and target (y)\n",
    "features = data[['open-close', 'high-low', 'Volume', 'is_quarter_end','SMA_10','SMA_20',\"SMA_30\"]]\n",
    "target = np.where(data['Close'].shift(-1) > data['Close'], 1, 0)  # 1 foSr price increase, 0 otherwise\n"
   ]
  },
  {
   "cell_type": "code",
   "execution_count": 13,
   "id": "89da5d2c-225b-44a2-b3d8-f611ec3085f4",
   "metadata": {},
   "outputs": [],
   "source": [
    "from sklearn.model_selection import train_test_split\n",
    "from sklearn.preprocessing import StandardScaler\n",
    "\n",
    "X_train, X_test, y_train, y_test = train_test_split(features, target, test_size=0.2, random_state=42)\n",
    "\n",
    "# Standardize features\n",
    "scaler = StandardScaler()\n",
    "X_train = scaler.fit_transform(X_train)\n",
    "X_test = scaler.transform(X_test)\n"
   ]
  },
  {
   "cell_type": "code",
   "execution_count": 14,
   "id": "65da4031-af98-4709-a04b-a0dcef208f48",
   "metadata": {},
   "outputs": [
    {
     "data": {
      "text/plain": [
       "['stock_price_predictor.joblib']"
      ]
     },
     "execution_count": 14,
     "metadata": {},
     "output_type": "execute_result"
    }
   ],
   "source": [
    "from sklearn.linear_model import LogisticRegression\n",
    "\n",
    "# Initialize and train the model\n",
    "model = LogisticRegression()\n",
    "model.fit(X_train, y_train)\n",
    "\n",
    "# Save the scaler and model for reuse\n",
    "from joblib import dump\n",
    "dump(scaler, 'scaler.joblib')\n",
    "dump(model, 'stock_price_predictor.joblib')\n"
   ]
  },
  {
   "cell_type": "code",
   "execution_count": 15,
   "id": "04672655-1b1b-495a-aa0c-698f26445bb0",
   "metadata": {},
   "outputs": [
    {
     "name": "stdout",
     "output_type": "stream",
     "text": [
      "Accuracy: 0.524390243902439\n",
      "Classification Report:\n",
      "               precision    recall  f1-score   support\n",
      "\n",
      "           0       0.48      0.09      0.15       116\n",
      "           1       0.53      0.92      0.67       130\n",
      "\n",
      "    accuracy                           0.52       246\n",
      "   macro avg       0.50      0.50      0.41       246\n",
      "weighted avg       0.50      0.52      0.42       246\n",
      "\n"
     ]
    }
   ],
   "source": [
    "from sklearn.metrics import accuracy_score, classification_report\n",
    "\n",
    "# Make predictions\n",
    "y_pred = model.predict(X_test)\n",
    "\n",
    "# Evaluate performance\n",
    "print(\"Accuracy:\", accuracy_score(y_test, y_pred))\n",
    "print(\"Classification Report:\\n\", classification_report(y_test, y_pred))\n"
   ]
  },
  {
   "cell_type": "code",
   "execution_count": 17,
   "id": "dbeed251-d8e3-45ea-b59b-bb192be290f0",
   "metadata": {},
   "outputs": [
    {
     "name": "stdout",
     "output_type": "stream",
     "text": [
      "Prediction: Down\n",
      "Probability of Price Increase: 0.49853982328759544\n"
     ]
    },
    {
     "name": "stderr",
     "output_type": "stream",
     "text": [
      "C:\\Users\\TANUJ\\anaconda3\\Lib\\site-packages\\sklearn\\base.py:493: UserWarning: X does not have valid feature names, but StandardScaler was fitted with feature names\n",
      "  warnings.warn(\n"
     ]
    }
   ],
   "source": [
    "from joblib import load\n",
    "\n",
    "# Load saved model and scaler\n",
    "scaler1 = load('scaler.joblib')\n",
    "model1 = load('stock_price_predictor.joblib')\n",
    "\n",
    "# Example new data\n",
    "new_data = [[5.0, -2.0, 1e7, 0,77.53,77.1,76.1]]  # Replace with actual feature values\n",
    "new_data_scaled = scaler1.transform(new_data)\n",
    "prediction = model1.predict(new_data_scaled)\n",
    "probability = model1.predict_proba(new_data_scaled)\n",
    "\n",
    "print(\"Prediction:\", \"Up\" if prediction[0] == 1 else \"Down\")\n",
    "print(\"Probability of Price Increase:\", probability[0][1])\n"
   ]
  }
 ],
 "metadata": {
  "kernelspec": {
   "display_name": "Python 3 (ipykernel)",
   "language": "python",
   "name": "python3"
  },
  "language_info": {
   "codemirror_mode": {
    "name": "ipython",
    "version": 3
   },
   "file_extension": ".py",
   "mimetype": "text/x-python",
   "name": "python",
   "nbconvert_exporter": "python",
   "pygments_lexer": "ipython3",
   "version": "3.12.7"
  }
 },
 "nbformat": 4,
 "nbformat_minor": 5
}
